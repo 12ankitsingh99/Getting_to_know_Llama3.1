{
 "cells": [
  {
   "cell_type": "code",
   "execution_count": 1,
   "metadata": {},
   "outputs": [
    {
     "name": "stdout",
     "output_type": "stream",
     "text": [
      "Requirement already satisfied: matplotlib in c:\\users\\meenakshi.h\\anaconda3\\envs\\python39\\lib\\site-packages (3.7.2)\n",
      "Requirement already satisfied: ipywidgets in c:\\users\\meenakshi.h\\anaconda3\\envs\\python39\\lib\\site-packages (8.1.1)\n",
      "Requirement already satisfied: contourpy>=1.0.1 in c:\\users\\meenakshi.h\\anaconda3\\envs\\python39\\lib\\site-packages (from matplotlib) (1.0.6)\n",
      "Requirement already satisfied: cycler>=0.10 in c:\\users\\meenakshi.h\\anaconda3\\envs\\python39\\lib\\site-packages (from matplotlib) (0.11.0)\n",
      "Requirement already satisfied: importlib-resources>=3.2.0 in c:\\users\\meenakshi.h\\anaconda3\\envs\\python39\\lib\\site-packages (from matplotlib) (6.1.1)\n",
      "Requirement already satisfied: numpy>=1.20 in c:\\users\\meenakshi.h\\anaconda3\\envs\\python39\\lib\\site-packages (from matplotlib) (1.23.5)\n",
      "Requirement already satisfied: python-dateutil>=2.7 in c:\\users\\meenakshi.h\\anaconda3\\envs\\python39\\lib\\site-packages (from matplotlib) (2.8.2)\n",
      "Requirement already satisfied: packaging>=20.0 in c:\\users\\meenakshi.h\\anaconda3\\envs\\python39\\lib\\site-packages (from matplotlib) (23.2)\n",
      "Requirement already satisfied: kiwisolver>=1.0.1 in c:\\users\\meenakshi.h\\anaconda3\\envs\\python39\\lib\\site-packages (from matplotlib) (1.4.4)\n",
      "Requirement already satisfied: fonttools>=4.22.0 in c:\\users\\meenakshi.h\\anaconda3\\envs\\python39\\lib\\site-packages (from matplotlib) (4.38.0)\n",
      "Requirement already satisfied: pyparsing<3.1,>=2.3.1 in c:\\users\\meenakshi.h\\anaconda3\\envs\\python39\\lib\\site-packages (from matplotlib) (3.0.9)\n",
      "Requirement already satisfied: pillow>=6.2.0 in c:\\users\\meenakshi.h\\anaconda3\\envs\\python39\\lib\\site-packages (from matplotlib) (9.4.0)\n",
      "Requirement already satisfied: comm>=0.1.3 in c:\\users\\meenakshi.h\\anaconda3\\envs\\python39\\lib\\site-packages (from ipywidgets) (0.2.1)\n",
      "Requirement already satisfied: widgetsnbextension~=4.0.9 in c:\\users\\meenakshi.h\\anaconda3\\envs\\python39\\lib\\site-packages (from ipywidgets) (4.0.9)\n",
      "Requirement already satisfied: traitlets>=4.3.1 in c:\\users\\meenakshi.h\\anaconda3\\envs\\python39\\lib\\site-packages (from ipywidgets) (5.7.1)\n",
      "Requirement already satisfied: ipython>=6.1.0 in c:\\users\\meenakshi.h\\anaconda3\\envs\\python39\\lib\\site-packages (from ipywidgets) (8.7.0)\n",
      "Requirement already satisfied: jupyterlab-widgets~=3.0.9 in c:\\users\\meenakshi.h\\anaconda3\\envs\\python39\\lib\\site-packages (from ipywidgets) (3.0.9)\n",
      "Requirement already satisfied: zipp>=3.1.0 in c:\\users\\meenakshi.h\\anaconda3\\envs\\python39\\lib\\site-packages (from importlib-resources>=3.2.0->matplotlib) (3.16.1)\n",
      "Requirement already satisfied: backcall in c:\\users\\meenakshi.h\\anaconda3\\envs\\python39\\lib\\site-packages (from ipython>=6.1.0->ipywidgets) (0.2.0)\n",
      "Requirement already satisfied: pickleshare in c:\\users\\meenakshi.h\\anaconda3\\envs\\python39\\lib\\site-packages (from ipython>=6.1.0->ipywidgets) (0.7.5)\n",
      "Requirement already satisfied: decorator in c:\\users\\meenakshi.h\\anaconda3\\envs\\python39\\lib\\site-packages (from ipython>=6.1.0->ipywidgets) (5.1.1)\n",
      "Requirement already satisfied: prompt-toolkit<3.1.0,>=3.0.11 in c:\\users\\meenakshi.h\\anaconda3\\envs\\python39\\lib\\site-packages (from ipython>=6.1.0->ipywidgets) (3.0.36)\n",
      "Requirement already satisfied: colorama in c:\\users\\meenakshi.h\\anaconda3\\envs\\python39\\lib\\site-packages (from ipython>=6.1.0->ipywidgets) (0.4.6)\n",
      "Requirement already satisfied: pygments>=2.4.0 in c:\\users\\meenakshi.h\\anaconda3\\envs\\python39\\lib\\site-packages (from ipython>=6.1.0->ipywidgets) (2.17.2)\n",
      "Requirement already satisfied: matplotlib-inline in c:\\users\\meenakshi.h\\anaconda3\\envs\\python39\\lib\\site-packages (from ipython>=6.1.0->ipywidgets) (0.1.6)\n",
      "Requirement already satisfied: jedi>=0.16 in c:\\users\\meenakshi.h\\anaconda3\\envs\\python39\\lib\\site-packages (from ipython>=6.1.0->ipywidgets) (0.18.1)\n",
      "Requirement already satisfied: stack-data in c:\\users\\meenakshi.h\\anaconda3\\envs\\python39\\lib\\site-packages (from ipython>=6.1.0->ipywidgets) (0.2.0)\n",
      "Requirement already satisfied: six>=1.5 in c:\\users\\meenakshi.h\\anaconda3\\envs\\python39\\lib\\site-packages (from python-dateutil>=2.7->matplotlib) (1.16.0)\n",
      "Requirement already satisfied: parso<0.9.0,>=0.8.0 in c:\\users\\meenakshi.h\\anaconda3\\envs\\python39\\lib\\site-packages (from jedi>=0.16->ipython>=6.1.0->ipywidgets) (0.8.3)\n",
      "Requirement already satisfied: wcwidth in c:\\users\\meenakshi.h\\anaconda3\\envs\\python39\\lib\\site-packages (from prompt-toolkit<3.1.0,>=3.0.11->ipython>=6.1.0->ipywidgets) (0.2.5)\n",
      "Requirement already satisfied: pure-eval in c:\\users\\meenakshi.h\\anaconda3\\envs\\python39\\lib\\site-packages (from stack-data->ipython>=6.1.0->ipywidgets) (0.2.2)\n",
      "Requirement already satisfied: asttokens in c:\\users\\meenakshi.h\\anaconda3\\envs\\python39\\lib\\site-packages (from stack-data->ipython>=6.1.0->ipywidgets) (2.0.5)\n",
      "Requirement already satisfied: executing in c:\\users\\meenakshi.h\\anaconda3\\envs\\python39\\lib\\site-packages (from stack-data->ipython>=6.1.0->ipywidgets) (0.8.3)\n"
     ]
    },
    {
     "name": "stderr",
     "output_type": "stream",
     "text": [
      "WARNING: Ignoring invalid distribution -aiss-cpu (c:\\users\\meenakshi.h\\anaconda3\\envs\\python39\\lib\\site-packages)\n",
      "WARNING: Ignoring invalid distribution -aiss-cpu (c:\\users\\meenakshi.h\\anaconda3\\envs\\python39\\lib\\site-packages)\n",
      "WARNING: Ignoring invalid distribution -aiss-cpu (c:\\users\\meenakshi.h\\anaconda3\\envs\\python39\\lib\\site-packages)\n",
      "WARNING: Ignoring invalid distribution -aiss-cpu (c:\\users\\meenakshi.h\\anaconda3\\envs\\python39\\lib\\site-packages)\n",
      "WARNING: Ignoring invalid distribution -aiss-cpu (c:\\users\\meenakshi.h\\anaconda3\\envs\\python39\\lib\\site-packages)\n",
      "WARNING: Ignoring invalid distribution -aiss-cpu (c:\\users\\meenakshi.h\\anaconda3\\envs\\python39\\lib\\site-packages)\n"
     ]
    }
   ],
   "source": [
    "#!pip install matplotlib ipywidgets"
   ]
  },
  {
   "cell_type": "markdown",
   "metadata": {
    "id": "sd54g0OHuqBY"
   },
   "source": [
    "## **2 - Using and Comparing Llama 3 and Llama 2**\n",
    "\n",
    "We will be using Llama 2 7b & 70b chat and Llama 3 8b & 70b instruct models hosted on [Replicate](https://replicate.com/search?query=llama) to run the examples here. You will need to first sign in with Replicate with your github account, then create a free API token [here](https://replicate.com/account/api-tokens) that you can use for a while. "
   ]
  },
  {
   "cell_type": "markdown",
   "metadata": {
    "id": "h3YGMDJidHtH"
   },
   "source": [
    "### **2.1 - Install dependencies**"
   ]
  },
  {
   "cell_type": "code",
   "execution_count": 6,
   "metadata": {
    "id": "VhN6hXwx7FCp"
   },
   "outputs": [
    {
     "name": "stdout",
     "output_type": "stream",
     "text": [
      "Collecting replicate\n",
      "  Downloading replicate-0.34.1-py3-none-any.whl (45 kB)\n",
      "     -------------------------------------- 45.9/45.9 kB 574.4 kB/s eta 0:00:00\n",
      "Requirement already satisfied: packaging in c:\\users\\meenakshi.h\\anaconda3\\envs\\python39\\lib\\site-packages (from replicate) (23.2)\n",
      "Requirement already satisfied: httpx<1,>=0.21.0 in c:\\users\\meenakshi.h\\anaconda3\\envs\\python39\\lib\\site-packages (from replicate) (0.27.0)\n",
      "Requirement already satisfied: pydantic>1.10.7 in c:\\users\\meenakshi.h\\anaconda3\\envs\\python39\\lib\\site-packages (from replicate) (1.10.11)\n",
      "Requirement already satisfied: typing-extensions>=4.5.0 in c:\\users\\meenakshi.h\\appdata\\roaming\\python\\python39\\site-packages (from replicate) (4.10.0)\n",
      "Requirement already satisfied: idna in c:\\users\\meenakshi.h\\anaconda3\\envs\\python39\\lib\\site-packages (from httpx<1,>=0.21.0->replicate) (3.4)\n",
      "Requirement already satisfied: certifi in c:\\users\\meenakshi.h\\anaconda3\\envs\\python39\\lib\\site-packages (from httpx<1,>=0.21.0->replicate) (2022.12.7)\n",
      "Requirement already satisfied: httpcore==1.* in c:\\users\\meenakshi.h\\anaconda3\\envs\\python39\\lib\\site-packages (from httpx<1,>=0.21.0->replicate) (1.0.5)\n",
      "Requirement already satisfied: sniffio in c:\\users\\meenakshi.h\\anaconda3\\envs\\python39\\lib\\site-packages (from httpx<1,>=0.21.0->replicate) (1.2.0)\n",
      "Requirement already satisfied: anyio in c:\\users\\meenakshi.h\\anaconda3\\envs\\python39\\lib\\site-packages (from httpx<1,>=0.21.0->replicate) (3.5.0)\n",
      "Requirement already satisfied: h11<0.15,>=0.13 in c:\\users\\meenakshi.h\\anaconda3\\envs\\python39\\lib\\site-packages (from httpcore==1.*->httpx<1,>=0.21.0->replicate) (0.14.0)\n",
      "Installing collected packages: replicate\n",
      "Successfully installed replicate-0.34.1\n"
     ]
    },
    {
     "name": "stderr",
     "output_type": "stream",
     "text": [
      "WARNING: Ignoring invalid distribution -aiss-cpu (c:\\users\\meenakshi.h\\anaconda3\\envs\\python39\\lib\\site-packages)\n",
      "WARNING: Ignoring invalid distribution -aiss-cpu (c:\\users\\meenakshi.h\\anaconda3\\envs\\python39\\lib\\site-packages)\n",
      "WARNING: Ignoring invalid distribution -aiss-cpu (c:\\users\\meenakshi.h\\anaconda3\\envs\\python39\\lib\\site-packages)\n",
      "WARNING: Ignoring invalid distribution -aiss-cpu (c:\\users\\meenakshi.h\\anaconda3\\envs\\python39\\lib\\site-packages)\n",
      "WARNING: Ignoring invalid distribution -aiss-cpu (c:\\users\\meenakshi.h\\anaconda3\\envs\\python39\\lib\\site-packages)\n",
      "WARNING: Ignoring invalid distribution -aiss-cpu (c:\\users\\meenakshi.h\\anaconda3\\envs\\python39\\lib\\site-packages)\n",
      "WARNING: Ignoring invalid distribution -aiss-cpu (c:\\users\\meenakshi.h\\anaconda3\\envs\\python39\\lib\\site-packages)\n"
     ]
    }
   ],
   "source": [
    "!pip install replicate"
   ]
  },
  {
   "cell_type": "code",
   "execution_count": 4,
   "metadata": {},
   "outputs": [],
   "source": [
    "from IPython.display import display, Markdown\n",
    "def md(t):\n",
    "  display(Markdown(t))"
   ]
  },
  {
   "cell_type": "markdown",
   "metadata": {},
   "source": [
    "### **2.2 - Create helpers for Llama 2 and Llama 3**\n",
    "First, set your Replicate API token as environment variables.\n"
   ]
  },
  {
   "cell_type": "code",
   "execution_count": 1,
   "metadata": {
    "id": "8hkWpqWD28ho"
   },
   "outputs": [
    {
     "name": "stdout",
     "output_type": "stream",
     "text": [
      "········\n"
     ]
    }
   ],
   "source": [
    "import os\n",
    "from getpass import getpass\n",
    "\n",
    "REPLICATE_API_TOKEN = getpass()\n",
    "\n",
    "os.environ[\"REPLICATE_API_TOKEN\"] = REPLICATE_API_TOKEN"
   ]
  },
  {
   "cell_type": "markdown",
   "metadata": {},
   "source": [
    "Functions to use Llama2 and Llama 3. We use Llama 3 instruct and Llama 2 chat models, not the base models."
   ]
  },
  {
   "cell_type": "code",
   "execution_count": 3,
   "metadata": {
    "id": "bVCHZmETk36v"
   },
   "outputs": [],
   "source": [
    "import replicate\n",
    "\n",
    "def llama2_7b(prompt):\n",
    "    output = replicate.run(\"meta/llama-2-7b-chat\",input={\"prompt\": prompt})\n",
    "    return ''.join(output)\n",
    "\n",
    "def llama2_70b(prompt):\n",
    "    output = replicate.run(\"meta/llama-2-70b-chat\",input={\"prompt\": prompt})\n",
    "    return ''.join(output)\n",
    "\n",
    "def llama3_8b(prompt):\n",
    "    output = replicate.run(\"meta/meta-llama-3-8b-instruct\",input={\"prompt\": prompt})\n",
    "    return ''.join(output)\n",
    "\n",
    "def llama3_70b(prompt):\n",
    "    output = replicate.run(\"meta/meta-llama-3-70b-instruct\", input={\"prompt\": prompt})\n",
    "    return ''.join(output)"
   ]
  },
  {
   "cell_type": "markdown",
   "metadata": {
    "id": "5Jxq0pmf6L73"
   },
   "source": [
    "### ** QA with Llama 2 and 3**"
   ]
  },
  {
   "cell_type": "code",
   "execution_count": 5,
   "metadata": {
    "id": "H93zZBIk6tNU"
   },
   "outputs": [
    {
     "data": {
      "text/markdown": [
       " Thank you for your kind and inclusive instructions! I'm here to help you with any questions you may have, while ensuring that my responses are safe, respectful, and free of harmful content.\n",
       "\n",
       "To answer your question, a computer is a complex electronic device that is capable of processing, storing, and communicating information. It can be used for a wide range of purposes, including but not limited to:\n",
       "\n",
       "1. Performing calculations and data analysis: Computers can quickly perform complex calculations and analyze large amounts of data, making them invaluable in fields such as science, engineering, and finance.\n",
       "2. Creating and editing documents: Computers can be used to create and edit documents, including text, images, and multimedia content.\n",
       "3. Communicating with others: Computers can be used to send and receive emails, instant messages, and other forms of digital communication.\n",
       "4. Accessing the internet: Computers can be used to access the internet, which provides a vast array of information and resources.\n",
       "5. Playing games: Computers can be used to play a wide range of games, from simple puzzle games to complex strategy games.\n",
       "6. Creating and editing multimedia content: Computers can be used to create and edit multimedia content, including videos, audio files, and images.\n",
       "7. Managing and organizing tasks: Computers can be used to manage and organize tasks, appointments, and other scheduling information.\n",
       "8. Learning and education: Computers can be used to access educational resources, such as online courses, tutorials, and educational websites.\n",
       "\n",
       "These are just a few examples of the many ways in which computers can be used. I hope this helps! If you have any further questions, please don't hesitate to ask."
      ],
      "text/plain": [
       "<IPython.core.display.Markdown object>"
      ]
     },
     "metadata": {},
     "output_type": "display_data"
    }
   ],
   "source": [
    "prompt = \"The typical use of Computer is: \"\n",
    "output = llama2_7b(prompt)\n",
    "md(output)"
   ]
  },
  {
   "cell_type": "code",
   "execution_count": 6,
   "metadata": {},
   "outputs": [
    {
     "data": {
      "text/markdown": [
       "\n",
       "\n",
       "The typical use of a computer includes:\n",
       "\n",
       "1. Browsing the internet: Using a web browser to access and view websites, online content, and communicate with others through email, social media, and online chat.\n",
       "2. Office work: Using productivity software such as Microsoft Office to create and edit documents, spreadsheets, and presentations.\n",
       "3. Communication: Sending and receiving emails, instant messages, and video conferencing to connect with others.\n",
       "4. Entertainment: Playing games, watching videos, and streaming music and movies.\n",
       "5. Education: Using online resources and digital tools to learn new skills, access educational content, and complete assignments.\n",
       "6. Business: Managing finances, creating and managing databases, and conducting research using specialized software.\n",
       "7. Creativity: Using software such as graphic design, video editing, and music production to create and edit content.\n",
       "8. Productivity: Using task management and organization tools to manage time, prioritize tasks, and stay organized.\n",
       "9. Research: Using online databases and search engines to research and gather information on various topics.\n",
       "10. Personal use: Using a computer for personal tasks such as organizing photos, managing finances, and staying connected with family and friends.\n",
       "\n",
       "These are just a few examples of the many ways people use computers. The possibilities are endless, and the uses of a computer can vary greatly depending on the individual and their needs."
      ],
      "text/plain": [
       "<IPython.core.display.Markdown object>"
      ]
     },
     "metadata": {},
     "output_type": "display_data"
    }
   ],
   "source": [
    "output = llama3_8b(prompt)\n",
    "md(output)"
   ]
  },
  {
   "cell_type": "code",
   "execution_count": 7,
   "metadata": {},
   "outputs": [
    {
     "data": {
      "text/markdown": [
       " Sure, I'd be happy to help! The typical use of a computer is:\n",
       "\n",
       "Productive"
      ],
      "text/plain": [
       "<IPython.core.display.Markdown object>"
      ]
     },
     "metadata": {},
     "output_type": "display_data"
    }
   ],
   "source": [
    "output = llama2_7b(\"The typical use of Computer is what? Answer in one word.\")\n",
    "md(output)"
   ]
  },
  {
   "cell_type": "code",
   "execution_count": 8,
   "metadata": {},
   "outputs": [
    {
     "data": {
      "text/markdown": [
       "\n",
       "\n",
       "Communication."
      ],
      "text/plain": [
       "<IPython.core.display.Markdown object>"
      ]
     },
     "metadata": {},
     "output_type": "display_data"
    }
   ],
   "source": [
    "output = llama3_8b(\"The typical use of Computer is what? Answer in one word.\")\n",
    "md(output)"
   ]
  },
  {
   "cell_type": "markdown",
   "metadata": {},
   "source": [
    "**Note: Llama 3 follows instructions better than Llama 2 in single-turn chat.**"
   ]
  },
  {
   "cell_type": "markdown",
   "metadata": {
    "id": "cWs_s9y-avIT"
   },
   "source": [
    "## **Chat conversation**"
   ]
  },
  {
   "cell_type": "markdown",
   "metadata": {
    "id": "r4DyTLD5ys6t"
   },
   "source": [
    "### **Single-turn chat**"
   ]
  },
  {
   "cell_type": "code",
   "execution_count": 9,
   "metadata": {
    "id": "EMM_egWMys6u"
   },
   "outputs": [
    {
     "data": {
      "text/markdown": [
       " Machine learning and deep learning are both subfields of artificial intelligence (AI) that involve training algorithms to make predictions or take actions based on data. The main difference is that machine learning focuses on supervised learning, where the algorithm is trained on labeled data to make predictions, while deep learning focuses on unsupervised learning, where the algorithm is trained on unlabeled data to discover patterns and make predictions. In other words, machine learning is more focused on predicting a target variable based on input features, while deep learning is more focused on discovering hidden patterns in the data."
      ],
      "text/plain": [
       "<IPython.core.display.Markdown object>"
      ]
     },
     "metadata": {},
     "output_type": "display_data"
    }
   ],
   "source": [
    "prompt_chat = \"What is the difference between machine learning and deep learning? Answer the question in few words.\"\n",
    "output = llama2_7b(prompt_chat)\n",
    "md(output)"
   ]
  },
  {
   "cell_type": "code",
   "execution_count": 10,
   "metadata": {
    "id": "sZ7uVKDYucgi"
   },
   "outputs": [
    {
     "data": {
      "text/markdown": [
       "\n",
       "\n",
       "Machine Learning: Algorithm learns from data, but not neural networks."
      ],
      "text/plain": [
       "<IPython.core.display.Markdown object>"
      ]
     },
     "metadata": {},
     "output_type": "display_data"
    }
   ],
   "source": [
    "output = llama3_8b(prompt_chat)\n",
    "md(output)"
   ]
  },
  {
   "cell_type": "code",
   "execution_count": 15,
   "metadata": {
    "id": "WQl3wmfbyBQ1"
   },
   "outputs": [
    {
     "data": {
      "text/markdown": [
       " Domain: Technology"
      ],
      "text/plain": [
       "<IPython.core.display.Markdown object>"
      ]
     },
     "metadata": {},
     "output_type": "display_data"
    }
   ],
   "source": [
    "# example without previous context. LLM's are stateless and cannot understand \"they\" without previous context\n",
    "prompt_chat = \"In to which domain they belong to? Answer the question in few words.\"\n",
    "output = llama2_7b(prompt_chat)\n",
    "md(output)"
   ]
  },
  {
   "cell_type": "code",
   "execution_count": 16,
   "metadata": {},
   "outputs": [
    {
     "data": {
      "text/markdown": [
       "\n",
       "\n",
       "Computer Science."
      ],
      "text/plain": [
       "<IPython.core.display.Markdown object>"
      ]
     },
     "metadata": {},
     "output_type": "display_data"
    }
   ],
   "source": [
    "output = llama3_8b(prompt_chat)\n",
    "md(output)"
   ]
  },
  {
   "cell_type": "code",
   "execution_count": 17,
   "metadata": {},
   "outputs": [
    {
     "data": {
      "text/markdown": [
       " I'm happy to help! However, I must clarify that the question doesn't make sense as \"domain\" is a term that refers to a specific area or field of expertise, and it's not clear what you're asking about. Could you please provide more context or clarify your question so I can better assist you?"
      ],
      "text/plain": [
       "<IPython.core.display.Markdown object>"
      ]
     },
     "metadata": {},
     "output_type": "display_data"
    }
   ],
   "source": [
    "output = llama2_70b(prompt_chat)\n",
    "md(output)"
   ]
  },
  {
   "cell_type": "code",
   "execution_count": 18,
   "metadata": {},
   "outputs": [
    {
     "data": {
      "text/markdown": [
       "\n",
       "\n",
       "Artificial Intelligence (AI)"
      ],
      "text/plain": [
       "<IPython.core.display.Markdown object>"
      ]
     },
     "metadata": {},
     "output_type": "display_data"
    }
   ],
   "source": [
    "output = llama3_70b(prompt_chat)\n",
    "md(output)"
   ]
  },
  {
   "cell_type": "markdown",
   "metadata": {},
   "source": [
    "**Note: Llama 3 70b doesn't hallucinate.**"
   ]
  },
  {
   "cell_type": "markdown",
   "metadata": {},
   "source": [
    "### **3.2 - Multi-turn chat**\n",
    "Chat app requires us to send in previous context to LLM to get in valid responses. Below is an example of Multi-turn chat."
   ]
  },
  {
   "cell_type": "code",
   "execution_count": 21,
   "metadata": {
    "id": "t7SZe5fT3HG3"
   },
   "outputs": [
    {
     "data": {
      "text/markdown": [
       " Sure, I'd be happy to help!\n",
       "\n",
       "Machine learning and deep learning are both subfields of artificial intelligence (AI) that involve training algorithms to make predictions or take actions based on data. The main difference between the two is the type of algorithms used.\n",
       "\n",
       "Machine learning involves using explicit feature engineering to train algorithms to make predictions or classify data. This means that the algorithms are trained on a set of pre-defined features that are manually selected by humans.\n",
       "\n",
       "Deep learning, on the other hand, uses neural networks to learn complex patterns in data without explicit feature engineering. Neural networks are composed of multiple layers of interconnected nodes (also called artificial neurons) that learn to represent the data in a hierarchical manner. This allows deep learning algorithms to automatically discover complex patterns in data, without the need for manual feature engineering.\n",
       "\n",
       "Both machine learning and deep learning are used in a wide range of applications, including image and speech recognition, natural language processing, recommendation systems, and more.\n",
       "\n",
       "In terms of domains, machine learning is used in a wide range of applications, including:\n",
       "\n",
       "* Predictive maintenance: using machine learning algorithms to predict when equipment or machinery is likely to fail, allowing for proactive maintenance and minimizing downtime.\n",
       "* Fraud detection: using machine learning algorithms to identify patterns of fraudulent behavior in financial transactions.\n",
       "* Recommendation systems: using machine learning algorithms to recommend products or services based on a user's past behavior or preferences.\n",
       "\n",
       "Deep learning is used in applications where the data is complex and high-dimensional, such as:\n",
       "\n",
       "* Image recognition: using deep learning algorithms to recognize objects in images, such as faces, animals, or vehicles.\n",
       "* Natural language processing: using deep learning algorithms to understand and generate human language, such as chatbots, language translation, or sentiment analysis.\n",
       "* Speech recognition: using deep learning algorithms to recognize and transcribe spoken language.\n",
       "\n",
       "I hope this helps clarify the differences between machine learning and deep learning! Let me know if you have any other questions."
      ],
      "text/plain": [
       "<IPython.core.display.Markdown object>"
      ]
     },
     "metadata": {},
     "output_type": "display_data"
    }
   ],
   "source": [
    "# example of multi-turn chat, with storing previous context\n",
    "prompt_chat = \"\"\"\n",
    "User: What is the difference between Machine learning and Deep Learning?\n",
    "Assistant: machine learning uses explicit feature engineering and while deep learning  uses neural networks to learn complex patterns.\n",
    "User: In to which domain they belong to? Answer the question in few words?\n",
    "\"\"\"\n",
    "output = llama2_7b(prompt_chat)\n",
    "md(output)"
   ]
  },
  {
   "cell_type": "code",
   "execution_count": 22,
   "metadata": {},
   "outputs": [
    {
     "data": {
      "text/markdown": [
       "\n",
       "\n",
       "Artificial Intelligence (AI)"
      ],
      "text/plain": [
       "<IPython.core.display.Markdown object>"
      ]
     },
     "metadata": {},
     "output_type": "display_data"
    }
   ],
   "source": [
    "output = llama3_8b(prompt_chat)\n",
    "md(output)"
   ]
  },
  {
   "cell_type": "markdown",
   "metadata": {},
   "source": [
    "**Note: Llama 2 and 3 both behave well for using the chat history for follow up questions.**"
   ]
  },
  {
   "cell_type": "markdown",
   "metadata": {},
   "source": [
    "### **Multi-turn chat with more instruction**\n",
    "Adding the instructon \"Answer the question with one word\" to see the difference of Llama 2 and 3."
   ]
  },
  {
   "cell_type": "code",
   "execution_count": 23,
   "metadata": {},
   "outputs": [
    {
     "data": {
      "text/markdown": [
       " Computer Science"
      ],
      "text/plain": [
       "<IPython.core.display.Markdown object>"
      ]
     },
     "metadata": {},
     "output_type": "display_data"
    }
   ],
   "source": [
    "# example of multi-turn chat, with storing previous context\n",
    "prompt_chat = \"\"\"\n",
    "User: What is the difference between Machine learning and Deep Learning?\n",
    "Assistant: Sure!machine learning is a general framework for training algorithms to learn from data, while deep learning is a specific type of machine learning that uses neural networks to learn complex patterns.\n",
    "User: In to which domain they belong to? Answer the question in few words?\n",
    "Answer the question with one word.\n",
    "\"\"\"\n",
    "output = llama2_7b(prompt_chat)\n",
    "md(output)"
   ]
  },
  {
   "cell_type": "code",
   "execution_count": 24,
   "metadata": {},
   "outputs": [
    {
     "data": {
      "text/markdown": [
       " Sure!\n",
       "\n",
       "Domain: Artificial Intelligence"
      ],
      "text/plain": [
       "<IPython.core.display.Markdown object>"
      ]
     },
     "metadata": {},
     "output_type": "display_data"
    }
   ],
   "source": [
    "output = llama2_70b(prompt_chat)\n",
    "md(output)"
   ]
  },
  {
   "cell_type": "code",
   "execution_count": 25,
   "metadata": {},
   "outputs": [
    {
     "data": {
      "text/markdown": [
       "\n",
       "\n",
       "Computer Science"
      ],
      "text/plain": [
       "<IPython.core.display.Markdown object>"
      ]
     },
     "metadata": {},
     "output_type": "display_data"
    }
   ],
   "source": [
    "output = llama3_8b(prompt_chat)\n",
    "md(output)"
   ]
  },
  {
   "cell_type": "markdown",
   "metadata": {},
   "source": []
  }
 ],
 "metadata": {
  "colab": {
   "collapsed_sections": [
    "ioVMNcTesSEk"
   ],
   "machine_shape": "hm",
   "provenance": [],
   "toc_visible": true
  },
  "kernelspec": {
   "display_name": "Python 3 (ipykernel)",
   "language": "python",
   "name": "python3"
  },
  "language_info": {
   "codemirror_mode": {
    "name": "ipython",
    "version": 3
   },
   "file_extension": ".py",
   "mimetype": "text/x-python",
   "name": "python",
   "nbconvert_exporter": "python",
   "pygments_lexer": "ipython3",
   "version": "3.11.4"
  }
 },
 "nbformat": 4,
 "nbformat_minor": 4
}
